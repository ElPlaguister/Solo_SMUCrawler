{
 "cells": [
  {
   "cell_type": "code",
   "execution_count": 1,
   "metadata": {},
   "outputs": [],
   "source": [
    "import requests\n",
    "from requests.adapters import HTTPAdapter\n",
    "from requests.packages.urllib3.util.retry import Retry\n",
    "from bs4 import BeautifulSoup as bs\n",
    "import re\n",
    "import smtplib\n",
    "from email.mime.text import MIMEText\n",
    "import time\n",
    "from private import privateManager"
   ]
  },
  {
   "cell_type": "code",
   "execution_count": 6,
   "metadata": {},
   "outputs": [],
   "source": [
    "def no_space(text):\n",
    "  text1 = re.sub('\\nbsp;|&nbsp;|\\n|\\t|\\r|  ', '', text)\n",
    "  text2 = re.sub('\\n\\n', '', text1)\n",
    "  return text2"
   ]
  },
  {
   "cell_type": "code",
   "execution_count": 42,
   "metadata": {},
   "outputs": [],
   "source": [
    "def check_smu_id(ids):\n",
    "    res = []\n",
    "    with open('private/data_smu.txt', 'r') as f:\n",
    "        datum = f.readline().split(' ')\n",
    "    for id in ids:\n",
    "        if id not in datum:\n",
    "            res.append(id)\n",
    "    return res"
   ]
  },
  {
   "cell_type": "code",
   "execution_count": 55,
   "metadata": {},
   "outputs": [],
   "source": [
    "def add_smu_id(ids):\n",
    "    f = open('private/data_smu.txt', 'r')\n",
    "    datum = f.readline().split(' ')\n",
    "    for id in ids:\n",
    "        if id not in datum:\n",
    "            datum.append(id)\n",
    "    datum = ' '.join(datum)\n",
    "    f.close()\n",
    "    f = open('private/data_smu.txt', 'w')\n",
    "    f.write(datum)\n",
    "    f.close()"
   ]
  },
  {
   "cell_type": "code",
   "execution_count": 65,
   "metadata": {},
   "outputs": [],
   "source": [
    "def set_all_read(session):\n",
    "    crawl_smu(session, True)"
   ]
  },
  {
   "cell_type": "code",
   "execution_count": 66,
   "metadata": {},
   "outputs": [],
   "source": [
    "set_all_read(session)"
   ]
  },
  {
   "cell_type": "code",
   "execution_count": 68,
   "metadata": {},
   "outputs": [],
   "source": [
    "def crawl_smu(session, set_all_read = False, ignore_cheon = True):\n",
    "    endpoint = 'https://www.smu.ac.kr/lounge/notice/notice.do'\n",
    "    soup = bs(session.get(endpoint).text, 'html.parser')\n",
    "    tableText = soup.find('ul', {'class' : 'board-thumb-wrap'})\n",
    "    contents = tableText.findAll('dl', {'class' : 'board-thumb-content-wrap'})\n",
    "    articles = []\n",
    "    ids = []\n",
    "    for content in contents:\n",
    "        tmp = content.find('dd', {'class' : 'board-thumb-content-info'})\n",
    "        id = no_space(tmp.find('li', {'class' : 'board-thumb-content-number'}).text.strip()).replace('No.', '')\n",
    "        date = re.findall(r'[0-9]+-[0-9]+-[0-9]+', tmp.find('li', {'class', 'board-thumb-content-date'}).text)[0]\n",
    "        region = content.find('span', {'class' : 'cmp'}).text\n",
    "        category = content.find('span', {'class' : 'cate'}).text\n",
    "        tmp_url = 'https://www.smu.ac.kr/lounge/notice/notice.do?mode=view&articleNo=' + id + '&article.offset=0&articleLimit=10'\n",
    "        title = no_space([a.text for a in content.find('dt', {'class' : 'board-thumb-content-title'}).findAll('a')][-1])\n",
    "        article = {\n",
    "            'region' : region,\n",
    "            'category' : category,\n",
    "            'url' : tmp_url,\n",
    "            'title' : title,\n",
    "            'date' : date,\n",
    "            'id' : id\n",
    "        }\n",
    "        articles.append(article)\n",
    "        ids.append(id)\n",
    "    ids = check_smu_id(ids)\n",
    "    if set_all_read:\n",
    "        add_smu_id(ids)\n",
    "        return\n",
    "    delList = []\n",
    "    for (i, article) in enumerate(articles):\n",
    "        if article['id'] not in ids:\n",
    "            delList.append(i)\n",
    "        elif ignore_cheon & article['region'] == '천안':\n",
    "            delList.append(i)\n",
    "    for i in delList:\n",
    "        articles[i] = None\n",
    "    return articles"
   ]
  },
  {
   "cell_type": "code",
   "execution_count": 47,
   "metadata": {},
   "outputs": [],
   "source": [
    "session = requests.Session()\n",
    "retry = Retry(connect=3, backoff_factor=0.5)\n",
    "adapter = HTTPAdapter(max_retries=retry)\n",
    "session.mount('https://', adapter)"
   ]
  },
  {
   "cell_type": "code",
   "execution_count": 70,
   "metadata": {},
   "outputs": [
    {
     "data": {
      "text/plain": [
       "[None,\n",
       " None,\n",
       " None,\n",
       " None,\n",
       " None,\n",
       " None,\n",
       " None,\n",
       " None,\n",
       " None,\n",
       " None,\n",
       " None,\n",
       " None,\n",
       " None,\n",
       " None,\n",
       " None,\n",
       " None,\n",
       " None,\n",
       " None,\n",
       " None,\n",
       " None,\n",
       " None,\n",
       " None,\n",
       " None,\n",
       " None,\n",
       " None,\n",
       " None,\n",
       " None,\n",
       " None,\n",
       " None,\n",
       " None,\n",
       " None,\n",
       " None,\n",
       " None,\n",
       " None,\n",
       " None,\n",
       " None,\n",
       " None,\n",
       " None,\n",
       " None,\n",
       " None,\n",
       " None,\n",
       " None,\n",
       " None,\n",
       " None,\n",
       " None,\n",
       " None,\n",
       " None,\n",
       " None,\n",
       " None,\n",
       " None,\n",
       " None,\n",
       " None,\n",
       " None,\n",
       " None,\n",
       " None,\n",
       " None,\n",
       " None,\n",
       " None,\n",
       " None,\n",
       " None,\n",
       " None,\n",
       " None,\n",
       " None,\n",
       " None,\n",
       " None,\n",
       " None,\n",
       " None,\n",
       " None,\n",
       " None,\n",
       " None,\n",
       " None,\n",
       " None,\n",
       " None,\n",
       " None,\n",
       " None,\n",
       " None,\n",
       " None,\n",
       " None,\n",
       " None,\n",
       " None,\n",
       " None,\n",
       " None,\n",
       " None,\n",
       " None,\n",
       " None,\n",
       " None,\n",
       " None,\n",
       " None,\n",
       " None,\n",
       " None,\n",
       " None,\n",
       " None,\n",
       " None,\n",
       " None,\n",
       " None,\n",
       " None,\n",
       " None,\n",
       " None]"
      ]
     },
     "execution_count": 70,
     "metadata": {},
     "output_type": "execute_result"
    }
   ],
   "source": [
    "ids = crawl_smu(session)\n",
    "ids"
   ]
  },
  {
   "cell_type": "code",
   "execution_count": 71,
   "metadata": {},
   "outputs": [],
   "source": [
    "def config_mail(contents):\n",
    "    with open('mailFrame.html', 'r') as f:\n",
    "        frame = ' '.join(f.readlines())\n",
    "    for i in range(len(contents)):\n",
    "        if contents[i] == None:\n",
    "            continue\n",
    "        with open('content.html', 'r') as f:\n",
    "            c = ' '.join(f.readlines())\n",
    "        c = c.replace('__region__', contents[i]['region'])\n",
    "        c = c.replace('__url__', contents[i]['url'])\n",
    "        c = c.replace('__title__', contents[i]['title'])\n",
    "        c = c.replace('__date__', contents[i]['date'])\n",
    "        c = c.replace('__category__', contents[i]['category'])\n",
    "        if i + 1 != len(contents):\n",
    "            c += '__content__'\n",
    "        frame = frame.replace('__content__', c)\n",
    "    return frame"
   ]
  },
  {
   "cell_type": "code",
   "execution_count": 72,
   "metadata": {},
   "outputs": [
    {
     "data": {
      "text/plain": [
       "'<div class=\"content\" id=\"jwxe_main_content\" style=\"text-decoration: none;list-style-type: none;margin: 0;padding: 0;\">\\n     <div class=\"common-board  total_notice\" id=\"ko\" style=\"text-decoration: none;list-style-type: none;margin: 0;padding: 0;font-weight: 400;font-size: 17px;color: #333;line-height: 1;max-width: 1200px;position: relative;\">\\n         <div class=\"board-name-thumb board-wrap\" style=\"text-decoration: none;list-style-type: none;margin: 0;padding: 0;\">\\n             <ul class=\"board-thumb-wrap\" style=\"text-decoration: none;list-style-type: none;margin: 0;padding: 0;\">\\n                 __content__\\n             </ul>\\t\\n         </div>\\n     </div>\\t\\t\\t\\n </div>'"
      ]
     },
     "execution_count": 72,
     "metadata": {},
     "output_type": "execute_result"
    }
   ],
   "source": [
    "config_mail(ids)"
   ]
  }
 ],
 "metadata": {
  "interpreter": {
   "hash": "432226cac510af23f209b0f3020455090cb0f7429b27b1c99c807571a68fbc6b"
  },
  "kernelspec": {
   "display_name": "Python 3.8.1 ('solo_smucrawler')",
   "language": "python",
   "name": "python3"
  },
  "language_info": {
   "codemirror_mode": {
    "name": "ipython",
    "version": 3
   },
   "file_extension": ".py",
   "mimetype": "text/x-python",
   "name": "python",
   "nbconvert_exporter": "python",
   "pygments_lexer": "ipython3",
   "version": "3.8.1"
  },
  "orig_nbformat": 4
 },
 "nbformat": 4,
 "nbformat_minor": 2
}
