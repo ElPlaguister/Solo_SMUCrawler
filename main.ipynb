{
 "cells": [
  {
   "cell_type": "code",
   "execution_count": 62,
   "metadata": {},
   "outputs": [],
   "source": [
    "import requests\n",
    "from bs4 import BeautifulSoup as bs\n",
    "import re\n",
    "import smtplib\n",
    "from email.mime.text import MIMEText"
   ]
  },
  {
   "cell_type": "code",
   "execution_count": 42,
   "metadata": {},
   "outputs": [],
   "source": [
    "def crawl_swai():\n",
    "    urls = []\n",
    "    for i in range(5):\n",
    "        endpoint = 'https://swai.smu.ac.kr/bbs/board.php?bo_table=07_01&page=' + str(i + 1)\n",
    "        soup = bs(requests.get(endpoint).text, 'html.parser')\n",
    "\n",
    "        tableText = soup.find('div', {'class' : 'tbl_head01 tbl_wrap'}).find('tbody')\n",
    "        articles = [a['href'] for a in tableText.findAll('a')]\n",
    "        urls.extend(articles)\n",
    "\n",
    "    res = [url.split('=')[-2].split('&')[0] for url in urls]\n",
    "    return res"
   ]
  },
  {
   "cell_type": "code",
   "execution_count": 47,
   "metadata": {},
   "outputs": [],
   "source": [
    "def no_space(text):\n",
    "  text1 = re.sub('\\nbsp;|&nbsp;|\\n|\\t|\\r|  ', '', text)\n",
    "  text2 = re.sub('\\n\\n', '', text1)\n",
    "  return text2"
   ]
  },
  {
   "cell_type": "code",
   "execution_count": 48,
   "metadata": {},
   "outputs": [],
   "source": [
    "def get_content_swai(id):\n",
    "    endpoint = 'https://swai.smu.ac.kr/bbs/board.php?bo_table=07_01&wr_id=' + str(id)\n",
    "    soup = bs(requests.get(endpoint).text, 'html.parser')\n",
    "    article = soup.find('article', {'id' : 'bo_v'})\n",
    "    \n",
    "    title = article.find('span', {'class' : 'bo_v_tit'}).text\n",
    "    title = no_space(title).strip()\n",
    "    date = ' '.join(article.find('strong', {'class' : 'if_date'}).text.split(' ')[1:])\n",
    "    content = article.find('div', {'id' : 'bo_v_con'})\n",
    "    res = {\n",
    "        'url' : endpoint,\n",
    "        'title' : title,\n",
    "        'date' : date,\n",
    "        'content' : content\n",
    "    }\n",
    "    return res"
   ]
  },
  {
   "cell_type": "code",
   "execution_count": 66,
   "metadata": {},
   "outputs": [],
   "source": [
    "def config_mail(content):\n",
    "    html = '<html>' + '<header><h1><a href = ' + str(content['url']) + '>' + str(content['title']) + '<a></h1><heeader>' + '<h4>' + str(content['date']) + '</h4>' + str(content['content']) + '</html>'\n",
    "    return html"
   ]
  },
  {
   "cell_type": "code",
   "execution_count": 67,
   "metadata": {},
   "outputs": [],
   "source": [
    "def send_mail(targets, content):\n",
    "    email = 'kritiasMailSender@gmail.com'\n",
    "    password = 'ufayshdyupbwqilj'\n",
    "\n",
    "    session = smtplib.SMTP('smtp.gmail.com', 587)\n",
    "    session.starttls()\n",
    "    session.login(email, password)\n",
    "\n",
    "    msg = MIMEText(content, 'html')\n",
    "    msg['Subject'] = '오늘의 사업단 글입니다.'\n",
    "    for target in targets:\n",
    "        session.sendmail(\"Secretary\", target, msg.as_string())"
   ]
  },
  {
   "cell_type": "code",
   "execution_count": 89,
   "metadata": {},
   "outputs": [],
   "source": [
    "def add_ids(ids):\n",
    "    f = open('data.txt', 'r')\n",
    "    datum = f.readline().split(' ')\n",
    "    for id in ids:\n",
    "        if id not in datum:\n",
    "            datum.append(id)\n",
    "    datum = ' '.join(datum)\n",
    "    f.close()\n",
    "    f = open('data.txt', 'w')\n",
    "    f.write(datum)\n",
    "    f.close()"
   ]
  },
  {
   "cell_type": "code",
   "execution_count": 88,
   "metadata": {},
   "outputs": [],
   "source": [
    "def check_ids(ids):\n",
    "    datum = []\n",
    "    res = []\n",
    "    with open('data.txt', 'r') as f:\n",
    "        datum = f.readline().split(' ')\n",
    "    for id in ids:\n",
    "        if id not in datum:\n",
    "            res.append(id)\n",
    "    return res"
   ]
  },
  {
   "cell_type": "code",
   "execution_count": 94,
   "metadata": {},
   "outputs": [
    {
     "data": {
      "text/plain": [
       "[]"
      ]
     },
     "execution_count": 94,
     "metadata": {},
     "output_type": "execute_result"
    }
   ],
   "source": [
    "ids = ['123', '124', '125']\n",
    "#add_ids(ids)\n",
    "check_ids(ids)"
   ]
  },
  {
   "cell_type": "code",
   "execution_count": 95,
   "metadata": {},
   "outputs": [],
   "source": [
    "def set_all_read():\n",
    "    ids = crawl_swai()\n",
    "    add_ids(ids)"
   ]
  },
  {
   "cell_type": "code",
   "execution_count": 96,
   "metadata": {},
   "outputs": [],
   "source": [
    "set_all_read()"
   ]
  },
  {
   "cell_type": "code",
   "execution_count": 97,
   "metadata": {},
   "outputs": [
    {
     "name": "stdout",
     "output_type": "stream",
     "text": [
      "[]\n"
     ]
    }
   ],
   "source": [
    "targets = ['smree@naver.com']\n",
    "ids = crawl_swai()\n",
    "ids = check_ids(ids)\n",
    "add_ids(ids)\n",
    "for id in ids:\n",
    "    content = get_content_swai(ids)\n",
    "    mail_body = config_mail(content)\n",
    "    send_mail(targets, mail_body)"
   ]
  }
 ],
 "metadata": {
  "interpreter": {
   "hash": "432226cac510af23f209b0f3020455090cb0f7429b27b1c99c807571a68fbc6b"
  },
  "kernelspec": {
   "display_name": "Python 3.8.1 ('solo_smucrawler')",
   "language": "python",
   "name": "python3"
  },
  "language_info": {
   "codemirror_mode": {
    "name": "ipython",
    "version": 3
   },
   "file_extension": ".py",
   "mimetype": "text/x-python",
   "name": "python",
   "nbconvert_exporter": "python",
   "pygments_lexer": "ipython3",
   "version": "3.8.1"
  },
  "orig_nbformat": 4
 },
 "nbformat": 4,
 "nbformat_minor": 2
}
